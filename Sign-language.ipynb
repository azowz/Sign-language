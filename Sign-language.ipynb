{
  "nbformat": 4,
  "nbformat_minor": 0,
  "metadata": {
    "colab": {
      "provenance": [],
      "authorship_tag": "ABX9TyNBLUs644K4t5apO2z4//O8",
      "include_colab_link": true
    },
    "kernelspec": {
      "name": "python3",
      "display_name": "Python 3"
    },
    "language_info": {
      "name": "python"
    }
  },
  "cells": [
    {
      "cell_type": "markdown",
      "metadata": {
        "id": "view-in-github",
        "colab_type": "text"
      },
      "source": [
        "<a href=\"https://colab.research.google.com/github/azowz/Sign-language/blob/main/Sign-language.ipynb\" target=\"_parent\"><img src=\"https://colab.research.google.com/assets/colab-badge.svg\" alt=\"Open In Colab\"/></a>"
      ]
    },
    {
      "cell_type": "code",
      "execution_count": null,
      "metadata": {
        "id": "7oGE9Swud4rL"
      },
      "outputs": [],
      "source": [
        "import requests\n",
        "from openai import OpenAI\n",
        "\n",
        "\n",
        "img_path = \"test.jpg\"\n",
        "with open(img_path, \"rb\") as f:\n",
        "    ocr_response = requests.post(\"http://localhost:8000/ocr\", files={\"file\": f})\n",
        "\n",
        "extracted_text = ocr_response.json()[\"text\"]\n",
        "\n",
        "\n",
        "client = OpenAI(api_key=\"YOUR_API_KEY\")\n",
        "\n",
        "chat_response = client.chat.completions.create(\n",
        "    model=\"gpt-4o-mini\",\n",
        "    messages=[\n",
        "        {\"role\": \"system\", \"content\": \"انت شات بوت يجاوب على النصوص بعد استخراجها من الصور.\"},\n",
        "        {\"role\": \"user\", \"content\": extracted_text}\n",
        "    ]\n",
        ")\n",
        "\n",
        "print(\"Bot reply:\", chat_response.choices[0].message.content)\n"
      ]
    },
    {
      "cell_type": "code",
      "source": [
        "import tkinter as tk\n",
        "from tkinter import filedialog\n",
        "import requests"
      ],
      "metadata": {
        "id": "qxJ9MKZ8fRRP"
      },
      "execution_count": 1,
      "outputs": []
    },
    {
      "cell_type": "code",
      "source": [
        "import gradio as gr\n",
        "import requests\n"
      ],
      "metadata": {
        "id": "5ur6EVuqfj_u"
      },
      "execution_count": 4,
      "outputs": []
    },
    {
      "cell_type": "code",
      "source": [
        "\n",
        "def process_image(image):\n",
        "    # إرسال الصورة لـ OCR API\n",
        "    with open(image, \"rb\") as f:\n",
        "        r = requests.post(\"http://localhost:8000/ocr\", files={\"file\": f})\n",
        "    return r.json().get(\"text\", \"خطأ\")\n",
        "\n",
        "iface = gr.Interface(fn=process_image,\n",
        "                     inputs=gr.Image(type=\"filepath\"),\n",
        "                     outputs=\"text\",\n",
        "                     title=\"OCR Chatbot\")\n",
        "\n",
        "iface.launch()"
      ],
      "metadata": {
        "colab": {
          "base_uri": "https://localhost:8080/",
          "height": 645
        },
        "id": "P6CMUSk_ft0Y",
        "outputId": "5db8d50f-4f4e-48a2-8789-174f6b4a508d"
      },
      "execution_count": 6,
      "outputs": [
        {
          "output_type": "stream",
          "name": "stdout",
          "text": [
            "It looks like you are running Gradio on a hosted Jupyter notebook, which requires `share=True`. Automatically setting `share=True` (you can turn this off by setting `share=False` in `launch()` explicitly).\n",
            "\n",
            "Colab notebook detected. To show errors in colab notebook, set debug=True in launch()\n",
            "* Running on public URL: https://ec24a8f17b7efb9cfb.gradio.live\n",
            "\n",
            "This share link expires in 1 week. For free permanent hosting and GPU upgrades, run `gradio deploy` from the terminal in the working directory to deploy to Hugging Face Spaces (https://huggingface.co/spaces)\n"
          ]
        },
        {
          "output_type": "display_data",
          "data": {
            "text/plain": [
              "<IPython.core.display.HTML object>"
            ],
            "text/html": [
              "<div><iframe src=\"https://ec24a8f17b7efb9cfb.gradio.live\" width=\"100%\" height=\"500\" allow=\"autoplay; camera; microphone; clipboard-read; clipboard-write;\" frameborder=\"0\" allowfullscreen></iframe></div>"
            ]
          },
          "metadata": {}
        },
        {
          "output_type": "execute_result",
          "data": {
            "text/plain": []
          },
          "metadata": {},
          "execution_count": 6
        }
      ]
    }
  ]
}